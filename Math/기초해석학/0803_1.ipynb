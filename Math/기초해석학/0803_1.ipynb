{
 "cells": [
  {
   "cell_type": "code",
   "execution_count": null,
   "source": [],
   "outputs": [],
   "metadata": {}
  },
  {
   "cell_type": "code",
   "execution_count": 2,
   "source": [
    "import tensorflow as tf\r\n",
    "import numpy as np\r\n",
    "import matplotlib.pyplot as plt"
   ],
   "outputs": [],
   "metadata": {}
  },
  {
   "cell_type": "code",
   "execution_count": 3,
   "source": [
    "A = tf.constant([1, 2, 3, 4, 5, 6], dtype=tf.float32, shape=(3, 2))\r\n",
    "Z = tf.zeros((3, 2), dtype=tf.float32)\r\n",
    "Y = tf.ones((3, 2), dtype=tf.float32)\r\n",
    "\r\n",
    "Zt = tf.transpose(Z)\r\n",
    "Yt = tf.transpose(Y)\r\n",
    "A, Z, Zt, Y, Yt\r\n",
    "\r\n",
    "Result = tf.matmul(A, Zt)\r\n",
    "Result2 = tf.matmul(A, Yt)\r\n",
    "Result2"
   ],
   "outputs": [
    {
     "output_type": "execute_result",
     "data": {
      "text/plain": [
       "<tf.Tensor: shape=(3, 3), dtype=float32, numpy=\n",
       "array([[ 3.,  3.,  3.],\n",
       "       [ 7.,  7.,  7.],\n",
       "       [11., 11., 11.]], dtype=float32)>"
      ]
     },
     "metadata": {},
     "execution_count": 3
    }
   ],
   "metadata": {}
  },
  {
   "cell_type": "code",
   "execution_count": 4,
   "source": [
    "x = tf.constant([1, 2, 3], \r\n",
    "                dtype=tf.float32,\r\n",
    "                shape=(3, 1))\r\n",
    "\r\n",
    "xT = tf.transpose(x)\r\n",
    "x_norm = tf.sqrt(tf.matmul(xT, x)) # 벡터의 크기 Norm\r\n",
    "\r\n",
    "x_norm\r\n",
    "\r\n",
    "# 연산 행렬의 사이즈가 맞지 않을때 발생하는 오류\r\n",
    "# InvalidArgumentError: In[0] mismatch In[1] shape: 1 vs. 3: [3,1] [3,1] 0 0 [Op:MatMul] "
   ],
   "outputs": [
    {
     "output_type": "execute_result",
     "data": {
      "text/plain": [
       "<tf.Tensor: shape=(1, 1), dtype=float32, numpy=array([[3.7416575]], dtype=float32)>"
      ]
     },
     "metadata": {},
     "execution_count": 4
    }
   ],
   "metadata": {}
  },
  {
   "cell_type": "code",
   "execution_count": 5,
   "source": [
    "random_num_x = (np.random.rand(12) * 10).astype(np.int32)\r\n",
    "random_num_v = (np.random.rand(4) * 10).astype(np.int32)\r\n",
    "x = tf.constant(random_num_x,\r\n",
    "                dtype=tf.float32,\r\n",
    "                shape=(3, 4))\r\n",
    "\r\n",
    "v = tf.constant(random_num_v,\r\n",
    "                dtype=tf.float32,\r\n",
    "                shape=(4, 1))\r\n",
    "\r\n",
    "result = tf.matmul(x, v)\r\n",
    "random_num_x, random_num_v, result"
   ],
   "outputs": [
    {
     "output_type": "execute_result",
     "data": {
      "text/plain": [
       "(array([0, 5, 7, 9, 6, 3, 2, 6, 2, 2, 5, 0]),\n",
       " array([9, 9, 2, 0]),\n",
       " <tf.Tensor: shape=(3, 1), dtype=float32, numpy=\n",
       " array([[59.],\n",
       "        [85.],\n",
       "        [46.]], dtype=float32)>)"
      ]
     },
     "metadata": {},
     "execution_count": 5
    }
   ],
   "metadata": {}
  },
  {
   "cell_type": "code",
   "execution_count": 6,
   "source": [
    "random_num_x = (np.random.rand(16) * 10).astype(np.int32)\r\n",
    "random_num_v = (np.random.rand(4) * 10).astype(np.int32)\r\n",
    "x = tf.constant(random_num_x,\r\n",
    "                dtype=tf.float32,\r\n",
    "                shape=(4, 4))\r\n",
    "\r\n",
    "v = tf.constant(random_num_v,\r\n",
    "                dtype=tf.float32,\r\n",
    "                shape=(4, 1))\r\n",
    "\r\n",
    "result = tf.linalg.solve(x, v) # 함수의 해를 찾는 함수\r\n",
    "random_num_x, random_num_v, result"
   ],
   "outputs": [
    {
     "output_type": "execute_result",
     "data": {
      "text/plain": [
       "(array([2, 2, 0, 5, 6, 7, 9, 0, 9, 0, 4, 4, 3, 6, 4, 6]),\n",
       " array([4, 2, 2, 2]),\n",
       " <tf.Tensor: shape=(4, 1), dtype=float32, numpy=\n",
       " array([[ 2.479042 ],\n",
       "        [ 2.934132 ],\n",
       "        [-3.7125752],\n",
       "        [-1.3652695]], dtype=float32)>)"
      ]
     },
     "metadata": {},
     "execution_count": 6
    }
   ],
   "metadata": {}
  },
  {
   "cell_type": "code",
   "execution_count": 28,
   "source": [
    "# 1차원\r\n",
    "X = tf.constant([-1.0, -0.1, 0.8, 1.7],\r\n",
    "                dtype=tf.float32,\r\n",
    "                shape=(4, 1))\r\n",
    "\r\n",
    "w = tf.Variable([[2.0]])\r\n",
    "b = tf.Variable(1.0)\r\n",
    "y = tf.matmul(X, w) + b\r\n",
    "\r\n",
    "y = np.sort(y)\r\n",
    "\r\n",
    "plt.plot(X, y, 'o:')\r\n",
    "plt.grid()\r\n",
    "plt.show()"
   ],
   "outputs": [
    {
     "output_type": "display_data",
     "data": {
      "text/plain": [
       "<Figure size 432x288 with 1 Axes>"
      ],
      "image/png": "[encoded data removed]"
     },
     "metadata": {
      "needs_background": "light"
     }
    }
   ],
   "metadata": {}
  },
  {
   "cell_type": "code",
   "execution_count": 32,
   "source": [
    "import mpl_toolkits.mplot3d.art3d as art3d\r\n",
    "# 2차원\r\n",
    "X = tf.constant([-1.0, -0.5, 0.0, 0.5, 1.0, 1.5, 2.0, 2.5],\r\n",
    "                dtype=tf.float32,\r\n",
    "                shape=(4, 2))\r\n",
    "\r\n",
    "w = tf.Variable([[2.0], [1.0]])\r\n",
    "b = tf.Variable(1.0)\r\n",
    "y = tf.matmul(X, w) + b\r\n",
    "\r\n",
    "fig = plt.figure(figsize=(5,5))\r\n",
    "ax = fig.add_subplot(1, 1, 1, projection='3d')\r\n",
    "for (xi, yi), zi in zip(X, y):\r\n",
    "    line = art3d.Line3D(*zip((xi, yi, 0), (xi, yi, zi)), marker='o', markevery=(1, 1))\r\n",
    "    ax.add_line(line)\r\n",
    "\r\n",
    "ax.set_xlim3d(-2, 3.5)\r\n",
    "ax.set_ylim3d(-2, 3.5)\r\n",
    "ax.set_zlim3d(0, 11)\r\n",
    "plt.show()"
   ],
   "outputs": [
    {
     "output_type": "stream",
     "name": "stderr",
     "text": [
      "C:\\Users\\PC\\.conda\\envs\\tensorflow\\lib\\site-packages\\mpl_toolkits\\mplot3d\\proj3d.py:136: VisibleDeprecationWarning: Creating an ndarray from ragged nested sequences (which is a list-or-tuple of lists-or-tuples-or ndarrays with different lengths or shapes) is deprecated. If you meant to do this, you must specify 'dtype=object' when creating the ndarray\n",
      "  return np.array([xs, ys, zs, np.ones_like(xs)])\n"
     ]
    },
    {
     "output_type": "display_data",
     "data": {
      "text/plain": [
       "<Figure size 360x360 with 1 Axes>"
      ],
      "image/png": "[encoded data removed]"
     },
     "metadata": {
      "needs_background": "light"
     }
    }
   ],
   "metadata": {}
  },
  {
   "cell_type": "code",
   "execution_count": 34,
   "source": [
    "x = [1, 2, 3, 4]\r\n",
    "y = [0, -1, -2, -3]\r\n",
    "\r\n",
    "w = [0.2, -0.8, 0.2, -1.0]\r\n",
    "b = [0.1, 1.0, -1.0, 1.0]\r\n",
    "\r\n",
    "for x_i, y_i, w_i, b_i in zip(x, y, w, b):\r\n",
    "    y_hat = w_i*x_i +b_i\r\n",
    "    loss = np.sum(np.abs(y_hat - y_i))\r\n",
    "\r\n",
    "    print(\"loss : {}\".format(loss))"
   ],
   "outputs": [
    {
     "output_type": "stream",
     "name": "stdout",
     "text": [
      "loss : 0.30000000000000004\n",
      "loss : 0.3999999999999999\n",
      "loss : 1.6\n",
      "loss : 0.0\n"
     ]
    }
   ],
   "metadata": {}
  },
  {
   "cell_type": "code",
   "execution_count": null,
   "source": [],
   "outputs": [],
   "metadata": {}
  }
 ],
 "metadata": {
  "orig_nbformat": 4,
  "language_info": {
   "name": "python",
   "version": "3.9.5",
   "mimetype": "text/x-python",
   "codemirror_mode": {
    "name": "ipython",
    "version": 3
   },
   "pygments_lexer": "ipython3",
   "nbconvert_exporter": "python",
   "file_extension": ".py"
  },
  "kernelspec": {
   "name": "python3",
   "display_name": "Python 3.9.5 64-bit ('tensorflow': conda)"
  },
  "interpreter": {
   "hash": "eaea366635c942e0b6ef2a4427b3242479306b5cd6ce58d837e58132c46ca6a8"
  }
 },
 "nbformat": 4,
 "nbformat_minor": 2
}