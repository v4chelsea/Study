{
 "cells": [
  {
   "cell_type": "markdown",
   "metadata": {},
   "source": [
    "선형 방정식 : $ a_1x_1 + a_2x_2 + ... + a_nx_n = b $ 처럼 최고 차수가 1인 방정식  \n",
    "미지수 2개인 선형방정식은 2차원 평면에서 직선으로 표현  \n",
    "미지수 3개인 선형방정식은 3차원 공간에서 평면으로 표현  \n",
    "미지수가 4개 이상인 선형방정식은 시각적으로 표현하지 못하고 '초평면' 이라고 불림\n",
    "\n",
    "연립 선형 방정식 : 선형방정식이 n개 이상 있는 것  \n",
    "해 : 연립선형 방정식을 모두 만족하는 미지수 값  \n",
    "해집합 : 여러개의 해를 모아둔 집합  \n",
    "\n",
    "\n",
    "해가 1개인 경우 : 두 직선이 한점에서 만남  \n",
    "해가 없는 경우(불능) : 두 직선이 평행  \n",
    "해가 무수히 많은 경우(부정) : 두 직선이 겹침  \n",
    "\n",
    "동치 : 두 연립선형방정식이 동일한 해집합을 가짐  \n",
    "동치를 만드는 방법\n",
    "  1. 두 선형방정식의 위치를 바꿈\n",
    "  2. 선형방정식 양변에 0이아닌 상수를 곱함\n",
    "  3. 특정 선형방정식의 0이 아닌 상수배를 한값을 다른 방정식에 더함\n",
    "\n",
    "\n",
    "대입법 : 다른 미지수의 식으로 표현하여, 해당 미지수에 식을 대입해 해를 구하는 방법  \n",
    "소거법 : 방정식에서 미지수를 소거하며 해를 구하는 방법"
   ]
  },
  {
   "cell_type": "code",
   "execution_count": 4,
   "metadata": {},
   "outputs": [],
   "source": [
    "import numpy as np"
   ]
  },
  {
   "cell_type": "code",
   "execution_count": 5,
   "metadata": {},
   "outputs": [],
   "source": [
    "# 연립선형 방정식은 Ax = b로 표현 가능\n",
    "\n",
    "# A 는 계수 행렬\n",
    "A = np.array([[1, 2 ,1],\n",
    "              [3, -2, -3],\n",
    "              [2, 3, 1]])\n",
    "\n",
    "x = np.array([['x1'],\n",
    "              ['x2'],\n",
    "              ['x3']])\n",
    "# b 는 상수 벡터 라고 함\n",
    "b = np.array([[3],\n",
    "              [-1],\n",
    "              [4]])\n",
    "\n",
    "# 선형 대수학에서 계수는 수식에서 미지수에 곱해지는 상수와 행렬의 열 차원 공간인 Rank를 함께 칭하는 말이다.\n",
    "# Rank 는 행렬의 열 차원 공간이다 (한양대 면접 질문이었음)"
   ]
  },
  {
   "cell_type": "markdown",
   "metadata": {},
   "source": [
    "추축 성분 : 행렬에서 각 행의 맨 왼쪽에 있는 0이 아닌 성분  \n",
    "행 사다리꼴 행렬의 성립 조건  \n",
    " 1. 모든 성분이 0인 행은 맨 아래에 위치한다\n",
    " 2. 모든 행의 추축성분은 위쪽 행의 추축성분보다 오른쪽에 위치한다\n",
    " 3. 모든 추축성분은 1이고, 추축성분 아래쪽의 모든 성분은 0이다\n",
    "\n",
    "기약행 사다리꼴 행렬 : 모든 추축성분이 해당열에서 0이아닌 유일한 성분인 행 사다리꼴 행렬"
   ]
  },
  {
   "cell_type": "code",
   "execution_count": 6,
   "metadata": {},
   "outputs": [],
   "source": [
    "# 행 사다리꼴 행렬\n",
    "matrix_1 = np.array([[1, 2 ,1],\n",
    "                     [0, 1, 3],\n",
    "                     [0, 0, 1]])\n",
    "\n",
    "matrix_2 = np.array([[1, 2 ,1],\n",
    "                     [0, 0, 1],\n",
    "                     [0, 0, 0]])\n",
    "\n",
    "matrix_3 = np.array([[1, 2 ,1, 2],\n",
    "                     [0, 0, 1, 0],\n",
    "                     [0, 0, 0, 1]])\n",
    "\n",
    "# 기약행 사다리꼴 행렬\n",
    "matrix_4 = np.array([[1, 0 ,0],\n",
    "                     [0, 1, 0],\n",
    "                     [0, 0, 1]])\n",
    "\n",
    "matrix_5 = np.array([[1, 0 ,0, 1],\n",
    "                     [0, 1, 0, 2],\n",
    "                     [0, 0, 1, 3]])\n",
    "\n",
    "matrix_6 = np.array([[1, 2 ,0, 1],\n",
    "                     [0, 0, 1, 1],\n",
    "                     [0, 0, 0, 0]])"
   ]
  },
  {
   "cell_type": "markdown",
   "metadata": {},
   "source": [
    "가우스 조단 소거법 : 행렬 A 를 각종 연산을 통해 단위행렬 I로 만들어 손쉽게 해를 구하는 방법\n",
    " - 가우스 조단 소거법은 기약행 사다리꼴을 만드는 체계화된 절차\n",
    "\n",
    "가우스 조단 소거법 과정\n",
    " 1. 연립선형방정식을 첨가행렬로 변환\n",
    " 2. 첫행부터 끝행까지 3 ~ 5단계 과정을 반복\n",
    " 3. i열부터 끝열까지 위쪽행의 추축성분이 아래쪽행의 추축성분과 같은 위치에 있거나 왼쪽에 있도록 행을 교환\n",
    " 4. i행 추축성분이 j열에있다면, i행을 (i, j)성분의 값으로 나눠 추축성분의 값이 1이되도록 한다.\n",
    " 5. 추축성분을 제외한 j열의 모든 성분이 0이되도록 i행의 상수배를 다른행에 더한다\n",
    " 6. 계수행렬 부분에 모든 성분이 0인 행이있고, 이 행에 대응하는 상수값이 0이 아니면 '불능'이라고 판단한다.\n",
    " 7. 0이 아닌 성분이 포함된 행의 개수가 미지수의 개수보다 적다면, '부정'이라고 판단한다.\n",
    " 8. 6, 7번에 해당하지 않는다면 해를 읽는다\n",
    "\n",
    "자유변수 : 어떤값으로든 변할수 있는 변수"
   ]
  },
  {
   "cell_type": "code",
   "execution_count": 7,
   "metadata": {},
   "outputs": [],
   "source": [
    "# 가우스 조던 소거법\n",
    "def gauss(A):\n",
    "    (n, m) = A.shape\n",
    "    for i in range(0, n):\n",
    "        # i번째 열에서 절댓값이 최대인 성분의 행 선택\n",
    "        maxEl = abs(A[i, i])\n",
    "        maxRow = i\n",
    "\n",
    "        for k in range(i+1, n):\n",
    "            if abs(A[k, i]) > maxEl:\n",
    "                maxEl = abs(A[k, i])\n",
    "                maxRow = k\n",
    "\n",
    "        # 현재 i번째 행과 최댓값을 갖는 행 maxRow 교환\n",
    "        for k in range(i, m):\n",
    "            tmp = A[maxRow, k]\n",
    "            A[maxRow, k] = A[i, k]\n",
    "            A[i, k] = tmp\n",
    "\n",
    "        # 추축 성분 1로 만들기\n",
    "        piv = A[i, i]\n",
    "        for k in range(i, m):\n",
    "            A[i, k] =  A[i, k]/piv\n",
    "\n",
    "        # 현재 i번째 열릐 i번째 행을 제외한 모든 성분을 0으로 만들기\n",
    "        for k in range(0, n):\n",
    "            if k != i:\n",
    "                c =A[k, i]/A[i, i]\n",
    "\n",
    "                for j in range(i, m):\n",
    "                    if i == j:\n",
    "                        A[k, j] = 0\n",
    "                    else:\n",
    "                        A[k, j] = A[k, j] - c * A[i, j]\n",
    "\n",
    "    # Ax=b의 해 반환\n",
    "    x = np.zeros(n)\n",
    "    for i in range(0, n):\n",
    "        x[i] = A[i, n]\n",
    "        \n",
    "    return x"
   ]
  },
  {
   "cell_type": "markdown",
   "metadata": {},
   "source": [
    "다항식 곡선 맞춤 : $ (x_1, y_1), (x_2, y_2), ... ,(x_n, y_n) $ 이라는 점이있을때 이 점을 지나는 m차 다항식을 찾는것  \n",
    "## $$ p(x) = a_0 + a_1x + a_2x^2 + ... + a_mx^m $$"
   ]
  }
 ],
 "metadata": {
  "interpreter": {
   "hash": "63fd5069d213b44bf678585dea6b12cceca9941eaf7f819626cde1f2670de90d"
  },
  "kernelspec": {
   "display_name": "Python 3.9.5 64-bit",
   "language": "python",
   "name": "python3"
  },
  "language_info": {
   "codemirror_mode": {
    "name": "ipython",
    "version": 3
   },
   "file_extension": ".py",
   "mimetype": "text/x-python",
   "name": "python",
   "nbconvert_exporter": "python",
   "pygments_lexer": "ipython3",
   "version": "3.9.5"
  },
  "orig_nbformat": 4
 },
 "nbformat": 4,
 "nbformat_minor": 2
}
