{
 "cells": [
  {
   "cell_type": "markdown",
   "metadata": {},
   "source": [
    "역행렬 : A의 역행렬은 $A^{-1}$ 로 표현하고, A inverse 라고 함\n",
    " - $AB = BA = I_n$\n",
    " - $AA^{-1} = A^{-1}A = I_n$\n",
    "\n",
    "가역행렬 : 역행렬이 존재하는 행렬  \n",
    " - n차 정방행렬 A가 가역이면, A의 역행렬은 유일성이 보장된다  \n",
    "\n",
    "비가역행렬 : 역행렬이 존재하지 않는 행렬   \n",
    " - 역행렬이 존재하지 않는경우는 특이한경우라 특이행렬 이라고도 함\n",
    "\n",
    "2*2 역행렬 : 행렬 A에 대해 $ad - cb \\neq 0 $ 이면 역행렬이 존재한다\n",
    " - $A^{-1} = \\frac{1}{ad-bc} \\begin{pmatrix} d & -b \\\\ -c & a \\end{pmatrix} $\n",
    "\n",
    "역행렬의 성질\n",
    " 1. $A^{-1}$ 은 가역이고, $ (A^{-1})^{-1} = A $ 다\n",
    " 2. $AB$ 는 가역이고, $ (AB)^{-1} = B^{-1}A^{-1} $ 다\n",
    " 3. $\\alpha A $는 가역이고, $ (\\alpha A)^{-1} = \\frac{1}{\\alpha} A^{-1} $ 다\n",
    " 4. $A^k$는 가역이고, $ (A^{-1})^k = (A^{k})^{-1} $ 다\n",
    "\n"
   ]
  },
  {
   "cell_type": "code",
   "execution_count": 1,
   "metadata": {},
   "outputs": [],
   "source": [
    "import numpy as np"
   ]
  },
  {
   "cell_type": "code",
   "execution_count": 21,
   "metadata": {},
   "outputs": [
    {
     "name": "stdout",
     "output_type": "stream",
     "text": [
      "[[-0.875  0.375]\n",
      " [ 0.625 -0.125]]\n",
      "[[-2.   1. ]\n",
      " [ 1.5 -0.5]]\n"
     ]
    }
   ],
   "source": [
    "matrix_A = np.array([[1, 3], \n",
    "                     [5, 7]], dtype=np.float32)\n",
    "matrix_B = np.array([[1, 2], \n",
    "                     [3, 4]], dtype=np.float32)\n",
    "matrix_C = np.array([[1, 2], \n",
    "                     [2, 4]], dtype=np.float32)\n",
    "\n",
    "scalar_a = 2\n",
    "\n",
    "# numpy.linalg.inv를 통해 역행렬을 구할 수 있다\n",
    "print(np.linalg.inv(matrix_A))\n",
    "print(np.linalg.inv(matrix_B))\n"
   ]
  },
  {
   "cell_type": "code",
   "execution_count": 17,
   "metadata": {},
   "outputs": [
    {
     "ename": "LinAlgError",
     "evalue": "Singular matrix",
     "output_type": "error",
     "traceback": [
      "\u001b[1;31m---------------------------------------------------------------------------\u001b[0m",
      "\u001b[1;31mLinAlgError\u001b[0m                               Traceback (most recent call last)",
      "\u001b[1;32m<ipython-input-17-854f68fb366c>\u001b[0m in \u001b[0;36m<module>\u001b[1;34m\u001b[0m\n\u001b[0;32m      1\u001b[0m \u001b[1;31m# ad - bc = 0인경우 역행렬을 구할 수 없다\u001b[0m\u001b[1;33m\u001b[0m\u001b[1;33m\u001b[0m\u001b[1;33m\u001b[0m\u001b[0m\n\u001b[1;32m----> 2\u001b[1;33m \u001b[0mprint\u001b[0m\u001b[1;33m(\u001b[0m\u001b[0mnp\u001b[0m\u001b[1;33m.\u001b[0m\u001b[0mlinalg\u001b[0m\u001b[1;33m.\u001b[0m\u001b[0minv\u001b[0m\u001b[1;33m(\u001b[0m\u001b[0mmatrix_C\u001b[0m\u001b[1;33m)\u001b[0m\u001b[1;33m)\u001b[0m\u001b[1;33m\u001b[0m\u001b[1;33m\u001b[0m\u001b[0m\n\u001b[0m",
      "\u001b[1;32m<__array_function__ internals>\u001b[0m in \u001b[0;36minv\u001b[1;34m(*args, **kwargs)\u001b[0m\n",
      "\u001b[1;32mC:\\Python39\\lib\\site-packages\\numpy\\linalg\\linalg.py\u001b[0m in \u001b[0;36minv\u001b[1;34m(a)\u001b[0m\n\u001b[0;32m    543\u001b[0m     \u001b[0msignature\u001b[0m \u001b[1;33m=\u001b[0m \u001b[1;34m'D->D'\u001b[0m \u001b[1;32mif\u001b[0m \u001b[0misComplexType\u001b[0m\u001b[1;33m(\u001b[0m\u001b[0mt\u001b[0m\u001b[1;33m)\u001b[0m \u001b[1;32melse\u001b[0m \u001b[1;34m'd->d'\u001b[0m\u001b[1;33m\u001b[0m\u001b[1;33m\u001b[0m\u001b[0m\n\u001b[0;32m    544\u001b[0m     \u001b[0mextobj\u001b[0m \u001b[1;33m=\u001b[0m \u001b[0mget_linalg_error_extobj\u001b[0m\u001b[1;33m(\u001b[0m\u001b[0m_raise_linalgerror_singular\u001b[0m\u001b[1;33m)\u001b[0m\u001b[1;33m\u001b[0m\u001b[1;33m\u001b[0m\u001b[0m\n\u001b[1;32m--> 545\u001b[1;33m     \u001b[0mainv\u001b[0m \u001b[1;33m=\u001b[0m \u001b[0m_umath_linalg\u001b[0m\u001b[1;33m.\u001b[0m\u001b[0minv\u001b[0m\u001b[1;33m(\u001b[0m\u001b[0ma\u001b[0m\u001b[1;33m,\u001b[0m \u001b[0msignature\u001b[0m\u001b[1;33m=\u001b[0m\u001b[0msignature\u001b[0m\u001b[1;33m,\u001b[0m \u001b[0mextobj\u001b[0m\u001b[1;33m=\u001b[0m\u001b[0mextobj\u001b[0m\u001b[1;33m)\u001b[0m\u001b[1;33m\u001b[0m\u001b[1;33m\u001b[0m\u001b[0m\n\u001b[0m\u001b[0;32m    546\u001b[0m     \u001b[1;32mreturn\u001b[0m \u001b[0mwrap\u001b[0m\u001b[1;33m(\u001b[0m\u001b[0mainv\u001b[0m\u001b[1;33m.\u001b[0m\u001b[0mastype\u001b[0m\u001b[1;33m(\u001b[0m\u001b[0mresult_t\u001b[0m\u001b[1;33m,\u001b[0m \u001b[0mcopy\u001b[0m\u001b[1;33m=\u001b[0m\u001b[1;32mFalse\u001b[0m\u001b[1;33m)\u001b[0m\u001b[1;33m)\u001b[0m\u001b[1;33m\u001b[0m\u001b[1;33m\u001b[0m\u001b[0m\n\u001b[0;32m    547\u001b[0m \u001b[1;33m\u001b[0m\u001b[0m\n",
      "\u001b[1;32mC:\\Python39\\lib\\site-packages\\numpy\\linalg\\linalg.py\u001b[0m in \u001b[0;36m_raise_linalgerror_singular\u001b[1;34m(err, flag)\u001b[0m\n\u001b[0;32m     86\u001b[0m \u001b[1;33m\u001b[0m\u001b[0m\n\u001b[0;32m     87\u001b[0m \u001b[1;32mdef\u001b[0m \u001b[0m_raise_linalgerror_singular\u001b[0m\u001b[1;33m(\u001b[0m\u001b[0merr\u001b[0m\u001b[1;33m,\u001b[0m \u001b[0mflag\u001b[0m\u001b[1;33m)\u001b[0m\u001b[1;33m:\u001b[0m\u001b[1;33m\u001b[0m\u001b[1;33m\u001b[0m\u001b[0m\n\u001b[1;32m---> 88\u001b[1;33m     \u001b[1;32mraise\u001b[0m \u001b[0mLinAlgError\u001b[0m\u001b[1;33m(\u001b[0m\u001b[1;34m\"Singular matrix\"\u001b[0m\u001b[1;33m)\u001b[0m\u001b[1;33m\u001b[0m\u001b[1;33m\u001b[0m\u001b[0m\n\u001b[0m\u001b[0;32m     89\u001b[0m \u001b[1;33m\u001b[0m\u001b[0m\n\u001b[0;32m     90\u001b[0m \u001b[1;32mdef\u001b[0m \u001b[0m_raise_linalgerror_nonposdef\u001b[0m\u001b[1;33m(\u001b[0m\u001b[0merr\u001b[0m\u001b[1;33m,\u001b[0m \u001b[0mflag\u001b[0m\u001b[1;33m)\u001b[0m\u001b[1;33m:\u001b[0m\u001b[1;33m\u001b[0m\u001b[1;33m\u001b[0m\u001b[0m\n",
      "\u001b[1;31mLinAlgError\u001b[0m: Singular matrix"
     ]
    }
   ],
   "source": [
    "# ad - bc = 0인경우 역행렬을 구할 수 없다\n",
    "print(np.linalg.inv(matrix_C))"
   ]
  },
  {
   "cell_type": "code",
   "execution_count": 23,
   "metadata": {},
   "outputs": [
    {
     "name": "stdout",
     "output_type": "stream",
     "text": [
      "[[ True  True]\n",
      " [ True  True]]\n",
      "[[ True  True]\n",
      " [ True  True]]\n",
      "[[ True  True]\n",
      " [ True  True]]\n",
      "[[ True  True]\n",
      " [ True  True]]\n"
     ]
    }
   ],
   "source": [
    "# 1번\n",
    "print(np.linalg.inv(np.linalg.inv(matrix_A)) == matrix_A)\n",
    "\n",
    "# 2번\n",
    "print(np.linalg.inv(np.dot(matrix_A, matrix_B)) == np.dot(np.linalg.inv(matrix_B), np.linalg.inv(matrix_A)))\n",
    "\n",
    "# 3번\n",
    "print(np.linalg.inv(scalar_a*matrix_A) == np.linalg.inv(matrix_A)/scalar_a)\n",
    "\n",
    "# 4번 \n",
    "scalar_k = 3\n",
    "print(np.linalg.matrix_power(np.linalg.inv(matrix_A), scalar_k) == np.linalg.inv(np.linalg.matrix_power(matrix_A, scalar_k)))\n"
   ]
  },
  {
   "cell_type": "markdown",
   "metadata": {},
   "source": [
    "전치행렬 : A Transpose라고 부르며, 행렬 A의 열과 행을 바꿔놓은 행렬이다\n",
    " - $ A^T = [\\acute{a}_{ij}]_{n*m} $ 의 성분 $\\acute{a}_{ij}$ 는 A의 $a_{ji}$와 같다\n",
    "\n",
    "전치행렬의 성질\n",
    " 1. $(A^T)^T = A$\n",
    " 2. $(A+B)^T = A^T + B^T$\n",
    " 3. $(AB)^T = B^TA^T$\n",
    " 4. $(\\alpha A)^T = \\alpha A^T$\n",
    " 5. A가 가역이면, $(A^T)^{-1} = (A^{-1})^T$"
   ]
  },
  {
   "cell_type": "code",
   "execution_count": 35,
   "metadata": {},
   "outputs": [
    {
     "name": "stdout",
     "output_type": "stream",
     "text": [
      "[[1. 3.]\n",
      " [5. 7.]]\n",
      "[[1. 5.]\n",
      " [3. 7.]]\n",
      "[[1 2 3]\n",
      " [4 5 6]]\n",
      "[[1 4]\n",
      " [2 5]\n",
      " [3 6]]\n"
     ]
    }
   ],
   "source": [
    "matrix_A = np.array([[1, 3], \n",
    "                     [5, 7]], dtype=np.float32)\n",
    "\n",
    "matrix_B = np.array([[1, 2], \n",
    "                     [3, 4]])\n",
    "\n",
    "matrix_C = np.array([[1, 2, 3], \n",
    "                     [4, 5, 6]])\n",
    "\n",
    "# matrix.T를 통해 Transpose를 할 수 있다.\n",
    "print(matrix_A)\n",
    "print(matrix_A.T)\n",
    "print(matrix_C)\n",
    "print(matrix_C.T)\n"
   ]
  },
  {
   "cell_type": "code",
   "execution_count": 36,
   "metadata": {},
   "outputs": [
    {
     "name": "stdout",
     "output_type": "stream",
     "text": [
      "[[ True  True]\n",
      " [ True  True]]\n",
      "[[ True  True]\n",
      " [ True  True]]\n",
      "[[ True  True]\n",
      " [ True  True]]\n",
      "[[ True  True]\n",
      " [ True  True]]\n",
      "[[ True  True]\n",
      " [ True  True]]\n"
     ]
    }
   ],
   "source": [
    "# 1번\n",
    "print((matrix_A.T).T == matrix_A)\n",
    "\n",
    "# 2번\n",
    "print((matrix_A+ matrix_B).T == matrix_A.T + matrix_B.T)\n",
    "\n",
    "# 3번\n",
    "print(np.dot(matrix_A, matrix_B).T == np.dot(matrix_B.T, matrix_A.T))\n",
    "\n",
    "# 4번\n",
    "print((scalar_a*matrix_A).T == scalar_a*matrix_A.T)\n",
    "\n",
    "# 5번\n",
    "print(np.linalg.inv(matrix_A.T) == np.linalg.inv(matrix_A).T)"
   ]
  },
  {
   "cell_type": "markdown",
   "metadata": {},
   "source": [
    "대칭행렬 : 정방행렬 $A$가 전치행렬 $A^T$와 같으면 $(A = A^T)$라 한다  \n",
    " - $ A = [a_{ij}]_{m*n} $에서 주대각 성분을 기준으로 대칭되는 위치에 있는 성분이 같은 값 $a_{ij} = a_{ji}$\n",
    "반대칭행렬 : $(-A = A^T)$를 만족하면 반대칭행렬이라 한다\n",
    " - $ B = [b_{ij}]_{m*n} $에서 주대각 성분을 기준으로 대칭되는 위치에 있는 성분이 절대값이 같고 부호는 다른 값 $b_{ij} = -b_{ji}$\n",
    " - 반대칭행렬의 주대각 성분은 모두 0이어야 한다 $b_{ii} = 0$\n",
    "\n",
    "정방행렬과 전치행렬의 합과 차\n",
    " 1. $(A + A^T)$ = 대칭행렬, $(A - A^T)$ = 반대칭행렬\n",
    " 2. $A = \\frac{1}{2} (A+A^T) + \\frac{1}{2} (A-A^T)$\n",
    "    - 정방행렬 A는 대칭행렬과 반대칭행렬의 합으로 나타낼 수 있다\n",
    "\n",
    "대각행렬 : 주대각성분 이외의 모든 성분이 0인 정방행렬 $diag(a_{11}, ..., a_{nn})$으로 표시한다  \n",
    "대각행렬의 곱 : 서로 크기가 같은 대각행렬 A, B의 곱은 $AB = diag(a_{11}b_{11}, ..., a_{nn}b_{nn})$이며 대각행렬의 곱도 대각행렬이다\n",
    " - m차 대각행렬 $D_m$을 행렬 A앞에 곱하면, A의 각 행에 그에 대응하는 $D_m$의 주대각 성분이 곱해진다\n",
    " - m차 대각행렬 $D_m$을 행렬 A뒤에 곱하면, A의 각 열에 그에 대응하는 $D_m$의 주대각 성분이 곱해진다\n",
    "\n",
    "대각합 : 정방행렬 $A = [a_{ij}]_{n*m}$의 대각합 $tr(A)$는 주대각 성분의 합이다\n",
    " - $tr(A) = a_{11} + a_{22} + ... + a_{nn}$\n",
    "\n",
    "대각합의 성질\n",
    " 1. $tr(A + B) = tr(A) + tr(B)$\n",
    " 2. $tr(cA) = c * tr(A)$\n",
    " 3. $tr(AB) = tr(BA)$\n",
    " 4. $tr(ABC) = tr(CAB) = tr(BCA)$ 순서가 유지되어야함"
   ]
  },
  {
   "cell_type": "code",
   "execution_count": 41,
   "metadata": {},
   "outputs": [
    {
     "name": "stdout",
     "output_type": "stream",
     "text": [
      "[[ True  True  True]\n",
      " [ True  True  True]\n",
      " [ True  True  True]]\n",
      "[[ True  True  True]\n",
      " [ True  True  True]\n",
      " [ True  True  True]]\n",
      "[[ True  True  True]\n",
      " [ True  True  True]\n",
      " [ True  True  True]]\n",
      "[[ 2  6 12]\n",
      " [ 4 12 20]\n",
      " [ 6 15 24]]\n",
      "[[ 2  4  6]\n",
      " [ 6 12 15]\n",
      " [12 20 24]]\n"
     ]
    }
   ],
   "source": [
    "# 대칭 행렬\n",
    "matrix_A = np.array([[1, 2, 3],\n",
    "                     [2, 4, 5],\n",
    "                     [3, 5, 6]])\n",
    "# 반대칭 행렬\n",
    "matrix_B = np.array([[0, 2, 3],\n",
    "                     [-2, 0, 5],\n",
    "                     [-3, -5, 0]])\n",
    "\n",
    "# 대각 행렬\n",
    "matrix_D = np.array([[2, 0, 0],\n",
    "                     [0, 3, 0],\n",
    "                     [0, 0, 4]])\n",
    "\n",
    "\n",
    "print(matrix_A == matrix_A.T)\n",
    "print(matrix_B == -matrix_B.T)\n",
    "print(matrix_A == (matrix_A + matrix_A.T)/2 + (matrix_A - matrix_A.T)/2)\n",
    "\n",
    "# 대각행렬을 뒤에 곱하면 각 행에 주대각 성분이 곱해진다\n",
    "print(np.dot(matrix_D, matrix_A))\n",
    "# 대각행렬을 앞에 곱하면 각 열에 주대각 성분이 곱해진다\n",
    "print(np.dot(matrix_A, matrix_D))\n"
   ]
  },
  {
   "cell_type": "code",
   "execution_count": 77,
   "metadata": {},
   "outputs": [
    {
     "name": "stdout",
     "output_type": "stream",
     "text": [
      "True\n",
      "True\n",
      "True\n",
      "True\n",
      "True\n"
     ]
    }
   ],
   "source": [
    "def total(matrix):\n",
    "    sum = 0\n",
    "\n",
    "    for i in range(len(matrix)):\n",
    "        sum += matrix[i][i]\n",
    "\n",
    "    return sum\n",
    "\n",
    "# 대각 행렬\n",
    "matrix_D1 = np.array([[1, 2, 3],\n",
    "                      [3, 2, 1],\n",
    "                      [2, 1, 3]], dtype = np.float32)\n",
    "\n",
    "matrix_D2 = np.array([[2, 4, 3],\n",
    "                      [4, 3, 2],\n",
    "                      [3, 2, 4]], dtype = np.float32)\n",
    "\n",
    "matrix_D3 = np.array([[3, 5, 4],\n",
    "                      [5, 4, 3],\n",
    "                      [2, 4, 5]], dtype = np.float32)\n",
    "\n",
    "scalar_d = 2\n",
    "\n",
    "# 1번\n",
    "print(total(matrix_D1 + matrix_D2) == total(matrix_D1) + total(matrix_D2))\n",
    "\n",
    "# 2번\n",
    "print(total(scalar_d * matrix_D1) == scalar_d * total(matrix_D1))\n",
    "\n",
    "# 3번\n",
    "print(total(np.dot(matrix_D1, matrix_D2)) == total(np.dot(matrix_D2, matrix_D1)))\n",
    "\n",
    "# 4번\n",
    "print(total(np.dot(np.dot(matrix_D1, matrix_D2), matrix_D3)) == total(np.dot(matrix_D3, np.dot(matrix_D1, matrix_D2))))\n",
    "print(total(np.dot(matrix_D3, np.dot(matrix_D1, matrix_D2))) == total(np.dot(np.dot(matrix_D2, matrix_D3), matrix_D1)))"
   ]
  },
  {
   "cell_type": "markdown",
   "metadata": {},
   "source": [
    "상삼각행렬 : 주대각성분의 아래쪽 모든 성분이 0인 정방행렬  \n",
    "하삼각행렬 : 주대각성분의 위쪽 모든 성분이 0인 정방행렬  \n",
    "삼각행렬의 곱 : 상삼각행렬 * 상삼각행렬 = 상삼각행렬 || 하삼각행렬 * 하삼각행렬 = 하삼각행렬\n",
    "블록행렬 : 행렬의 특정행과 열사이를 경계로 나눠 부분행렬로 표현한 것"
   ]
  },
  {
   "cell_type": "code",
   "execution_count": 79,
   "metadata": {},
   "outputs": [
    {
     "name": "stdout",
     "output_type": "stream",
     "text": [
      "[[ 1 10 31]\n",
      " [ 0 16 50]\n",
      " [ 0  0 36]]\n",
      "[[ 1  0  0]\n",
      " [12  4  0]\n",
      " [44 30  9]]\n"
     ]
    }
   ],
   "source": [
    "# 상삼각행렬\n",
    "matrix_U = np.array([[1, 2, 3],\n",
    "                     [0, 4, 5],\n",
    "                     [0, 0, 6]])\n",
    "# 하삼각행렬\n",
    "matrix_L = np.array([[1, 0, 0],\n",
    "                     [4, 2, 0],\n",
    "                     [5, 6, 3]])\n",
    "\n",
    "print(np.linalg.matrix_power(matrix_U, 2))\n",
    "print(np.linalg.matrix_power(matrix_L, 2))"
   ]
  },
  {
   "cell_type": "markdown",
   "metadata": {},
   "source": [
    "텐서 : 벡터와 행렬의 개념을 확장한 것, Rank에 따라 배열의 형태를 띄는 것\n",
    " - Rank n인 텐서는 Rank n-1인 텐서들의 배열 "
   ]
  },
  {
   "cell_type": "markdown",
   "metadata": {},
   "source": []
  },
  {
   "cell_type": "markdown",
   "metadata": {},
   "source": []
  }
 ],
 "metadata": {
  "interpreter": {
   "hash": "63fd5069d213b44bf678585dea6b12cceca9941eaf7f819626cde1f2670de90d"
  },
  "kernelspec": {
   "display_name": "Python 3.9.5 64-bit",
   "language": "python",
   "name": "python3"
  },
  "language_info": {
   "codemirror_mode": {
    "name": "ipython",
    "version": 3
   },
   "file_extension": ".py",
   "mimetype": "text/x-python",
   "name": "python",
   "nbconvert_exporter": "python",
   "pygments_lexer": "ipython3",
   "version": "3.9.5"
  },
  "orig_nbformat": 4
 },
 "nbformat": 4,
 "nbformat_minor": 2
}
