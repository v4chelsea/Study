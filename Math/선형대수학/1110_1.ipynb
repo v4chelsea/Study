{
 "cells": [
  {
   "cell_type": "markdown",
   "metadata": {},
   "source": [
    "행렬 : $ A = [a_{ij}]_{m*n} $  \n",
    "정방행렬 : 행과 열의 개수가 같은 행렬  \n",
    "n차 정방행렬 : 행과 열의 개수가 n개인 행렬  \n",
    "주대각 성분 : 행과 열의 번호가 같은 성분(행렬의 대각선값) $ a_{11}, a_{22}, ..., a_{nn} $  \n",
    "단위행렬 : 주대각 성분이 1이고 그외 값은 모두 0인 행렬 I라고 표시함  \n",
    "영행렬 : 모든 성분이 0인 행렬"
   ]
  },
  {
   "cell_type": "code",
   "execution_count": 2,
   "metadata": {},
   "outputs": [],
   "source": [
    "import numpy as np"
   ]
  },
  {
   "cell_type": "code",
   "execution_count": 3,
   "metadata": {},
   "outputs": [
    {
     "name": "stdout",
     "output_type": "stream",
     "text": [
      "[[0 0 0]\n",
      " [0 0 0]\n",
      " [0 0 0]]\n",
      "[[0. 0. 0.]\n",
      " [0. 0. 0.]\n",
      " [0. 0. 0.]]\n"
     ]
    }
   ],
   "source": [
    "# 2*3 행렬\n",
    "matrix_A = np.array([[1, 2, 3],\n",
    "                     [3, 4, 6]])\n",
    "# 2*2 행렬, 2차 정방행렬\n",
    "matrix_B = np.array([[1, 2],\n",
    "                     [3, 4]])\n",
    "\n",
    "# 3*3 항등행렬\n",
    "matrix_I = np.array([[1, 0, 0],\n",
    "                     [0, 1, 0],\n",
    "                     [0, 0, 1]])\n",
    "\n",
    "# 3*3 영행렬, numpy.zeros로 영행렬을 쉽게 만들 수 있다\n",
    "matrix_O = np.array([[0, 0, 0],\n",
    "                     [0, 0, 0],\n",
    "                     [0, 0, 0]])\n",
    "\n",
    "matrix_O2 = np.zeros([3, 3])\n",
    "\n",
    "print(matrix_O)\n",
    "print(matrix_O2)"
   ]
  },
  {
   "cell_type": "markdown",
   "metadata": {},
   "source": [
    "행렬의 합 : $ A = [a_{ij}]_{m*n} $ 과 $ B = [b_{ij}]_{m*n} $ 의 합인 행렬 $ C = [c_{ij}]_{m*n} $\n",
    " - $ c_{ij} $ 는 대응하는 성분들의 합이다. $ c_{ij} = a_{ij} + b_{ij} $\n",
    " - 서로 합하는 행렬의 크기가 다르면 연산되지않는다.\n",
    "\n",
    "행렬의 차 : $ A = [a_{ij}]_{m*n} $ 과 $ B = [b_{ij}]_{m*n} $ 의 차인 행렬 $ C = [c_{ij}]_{m*n} $\n",
    " - $ c_{ij} $ 는 대응하는 성분들의 차다. $ c_{ij} = a_{ij} - b_{ij} $\n",
    " - $ A - B = A + (-1)B $ \n",
    " - 서로 빼는 행렬의 크기가 다르면 연산되지않는다.\n",
    "\n",
    "행렬의 스칼라배 : $ A = [a_{ij}]_{m*n} $ 행렬에 스칼라 k를 곱하는것 $ kA = [ka_{ij}]_{m*n} $ 이므로 A의 각 성분을 k배 한것\n",
    " - 스칼라배는 행렬의 크기에 영향을 받지 않는다.\n",
    "\n",
    "행렬의 곱 : $ A = [a_{ij}]_{m*p} $ 과 $ B = [b_{ij}]_{p*n} $ 의 곱인 행렬 $ AB = [c_{ik}]_{m*n} $ 이다.\n",
    " - $ c_{ik} = a_{i1}b_{1k} + a_{i2}b_{2k} + ... + a_{ip}b_{pk} = \\sum_{j=1}^{p} a_{ij}b{jk} $\n",
    " - 행렬 A와 행렬 B의 곱 AB는 A의 열의 개수, B의 행의 개수가 동일해야만 정의된다.\n",
    " - 행렬의 곱은 교환법칙이 성립하지 않는다 $AB \\neq BA$\n"
   ]
  },
  {
   "cell_type": "code",
   "execution_count": 17,
   "metadata": {},
   "outputs": [
    {
     "name": "stdout",
     "output_type": "stream",
     "text": [
      "[[ 3  6  9]\n",
      " [11  5 10]]\n",
      "[[-1 -2 -3]\n",
      " [-5  3  2]]\n",
      "[[10 20 30]\n",
      " [30 40 60]]\n",
      "[[20 40 60]\n",
      " [80 10 40]]\n",
      "[[20 10]\n",
      " [80 30]]\n",
      "[[21  7 18]\n",
      " [44 15 41]]\n",
      "[[42 14 36]\n",
      " [28 11 54]]\n",
      "[[False False False]\n",
      " [False False False]\n",
      " [False False False]]\n"
     ]
    }
   ],
   "source": [
    "matrix_A = np.array([[1, 2, 3],\n",
    "                     [3, 4, 6]])\n",
    "\n",
    "matrix_B = np.array([[2, 4, 6],\n",
    "                     [8, 1, 4]])\n",
    "\n",
    "matrix_N = np.array([[2, 1],\n",
    "                     [8, 3]])\n",
    "\n",
    "matrix_M = np.array([[2, 1, 5],\n",
    "                     [8, 3, 2],\n",
    "                     [1, 0, 3]])\n",
    "\n",
    "matrix_P = np.array([[1, 2, 3],\n",
    "                     [4, 5, 6],\n",
    "                     [7, 8, 9]])\n",
    "\n",
    "k = 10\n",
    "\n",
    "# 행렬의 합\n",
    "print(matrix_A + matrix_B)\n",
    "# 행렬의 곱\n",
    "print(matrix_A - matrix_B)\n",
    "# 행렬의 스칼라배\n",
    "print(k*matrix_A)\n",
    "print(k*matrix_B)\n",
    "print(k*matrix_N)\n",
    "# 행렬의 곱, numpy.dot으로 행렬 곱을 수행할 수 있다\n",
    "print(np.dot(matrix_A, matrix_M))\n",
    "print(np.dot(matrix_B, matrix_M))\n",
    "\n",
    "# 행렬의 곱에서는 교환법칙이 성립되지않는다\n",
    "print(np.dot(matrix_M, matrix_P) == np.dot(matrix_P, matrix_M))\n"
   ]
  },
  {
   "cell_type": "code",
   "execution_count": 6,
   "metadata": {},
   "outputs": [
    {
     "ename": "ValueError",
     "evalue": "operands could not be broadcast together with shapes (2,2) (2,3) ",
     "output_type": "error",
     "traceback": [
      "\u001b[1;31m---------------------------------------------------------------------------\u001b[0m",
      "\u001b[1;31mValueError\u001b[0m                                Traceback (most recent call last)",
      "\u001b[1;32m<ipython-input-6-7d41747cae58>\u001b[0m in \u001b[0;36m<module>\u001b[1;34m\u001b[0m\n\u001b[1;32m----> 1\u001b[1;33m \u001b[0mprint\u001b[0m\u001b[1;33m(\u001b[0m\u001b[0mmatrix_N\u001b[0m \u001b[1;33m+\u001b[0m \u001b[0mmatrix_B\u001b[0m\u001b[1;33m)\u001b[0m\u001b[1;33m\u001b[0m\u001b[1;33m\u001b[0m\u001b[0m\n\u001b[0m",
      "\u001b[1;31mValueError\u001b[0m: operands could not be broadcast together with shapes (2,2) (2,3) "
     ]
    }
   ],
   "source": [
    "# 사이즈가 다른 행렬은 더할 수 없다\n",
    "print(matrix_N + matrix_B)"
   ]
  },
  {
   "cell_type": "code",
   "execution_count": 7,
   "metadata": {},
   "outputs": [
    {
     "ename": "ValueError",
     "evalue": "operands could not be broadcast together with shapes (2,2) (2,3) ",
     "output_type": "error",
     "traceback": [
      "\u001b[1;31m---------------------------------------------------------------------------\u001b[0m",
      "\u001b[1;31mValueError\u001b[0m                                Traceback (most recent call last)",
      "\u001b[1;32m<ipython-input-7-91af41f37b12>\u001b[0m in \u001b[0;36m<module>\u001b[1;34m\u001b[0m\n\u001b[1;32m----> 1\u001b[1;33m \u001b[0mprint\u001b[0m\u001b[1;33m(\u001b[0m\u001b[0mmatrix_N\u001b[0m \u001b[1;33m-\u001b[0m \u001b[0mmatrix_B\u001b[0m\u001b[1;33m)\u001b[0m\u001b[1;33m\u001b[0m\u001b[1;33m\u001b[0m\u001b[0m\n\u001b[0m",
      "\u001b[1;31mValueError\u001b[0m: operands could not be broadcast together with shapes (2,2) (2,3) "
     ]
    }
   ],
   "source": [
    "# 사이즈가 다른 행렬은 뺄 수 없다\n",
    "print(matrix_N - matrix_B)"
   ]
  },
  {
   "cell_type": "code",
   "execution_count": 15,
   "metadata": {},
   "outputs": [
    {
     "ename": "ValueError",
     "evalue": "shapes (2,2) and (3,3) not aligned: 2 (dim 1) != 3 (dim 0)",
     "output_type": "error",
     "traceback": [
      "\u001b[1;31m---------------------------------------------------------------------------\u001b[0m",
      "\u001b[1;31mValueError\u001b[0m                                Traceback (most recent call last)",
      "\u001b[1;32m<ipython-input-15-f237293b2c6f>\u001b[0m in \u001b[0;36m<module>\u001b[1;34m\u001b[0m\n\u001b[0;32m      1\u001b[0m \u001b[1;31m# A행렬의 행과, B행렬의 열 사이즈가 같지않으면 연산을 진행할 수 없다\u001b[0m\u001b[1;33m\u001b[0m\u001b[1;33m\u001b[0m\u001b[1;33m\u001b[0m\u001b[0m\n\u001b[1;32m----> 2\u001b[1;33m \u001b[0mprint\u001b[0m\u001b[1;33m(\u001b[0m\u001b[0mnp\u001b[0m\u001b[1;33m.\u001b[0m\u001b[0mdot\u001b[0m\u001b[1;33m(\u001b[0m\u001b[0mmatrix_N\u001b[0m\u001b[1;33m,\u001b[0m \u001b[0mmatrix_M\u001b[0m\u001b[1;33m)\u001b[0m\u001b[1;33m)\u001b[0m\u001b[1;33m\u001b[0m\u001b[1;33m\u001b[0m\u001b[0m\n\u001b[0m",
      "\u001b[1;32m<__array_function__ internals>\u001b[0m in \u001b[0;36mdot\u001b[1;34m(*args, **kwargs)\u001b[0m\n",
      "\u001b[1;31mValueError\u001b[0m: shapes (2,2) and (3,3) not aligned: 2 (dim 1) != 3 (dim 0)"
     ]
    }
   ],
   "source": [
    "# A행렬의 행과, B행렬의 열 사이즈가 같지않으면 연산을 진행할 수 없다\n",
    "print(np.dot(matrix_N, matrix_M))"
   ]
  },
  {
   "cell_type": "markdown",
   "metadata": {},
   "source": [
    "행렬의 거듭 제곱 : n*n 행렬 A(n차 정방행렬 A)에 대해 $A^k$는 A를 k번 거듭제곱한 것을 나타낸다.\n",
    " - $ A^0 = I $\n",
    " - $ (A^b)^c = A^{bc} $\n",
    " - $ A^bA^c = A^{b+c} $\n",
    "\n",
    "행렬 연산의 기본 성질\n",
    " 1. $A + 0 = 0 + A = A$\n",
    " 2. $IA = AI = A$\n",
    " 3. $A + B = B + A$\n",
    " 4. $(A+B)+C = A+(B+C)$\n",
    " 5. $(AB)C = A(BC)$\n",
    " 6. $A(B+C) = AB + AC$\n",
    " 7. $(A+B)C = AC + AB$\n",
    " 8. $a(B+C) = aB + aC$\n",
    " 9. $(a+b)C = aC + bC$\n",
    " 10. $(ab)C = a(bC)$\n",
    " 11. $a(BC) = (aB)C = B(aC)$\n",
    "\n",
    "행렬곱 소거법칙 적용 불가 : 행렬 A, B, C에 대해 AB = AC라고해서 반드시 B = C는 아니다  \n",
    "AB = 0인 행렬 : AB = 0 일 때 일반적으로 A = 0 or B = 0이라고 할 수 없다"
   ]
  },
  {
   "cell_type": "code",
   "execution_count": 54,
   "metadata": {},
   "outputs": [],
   "source": [
    "matrix_A = np.array([[1, 2],\n",
    "                     [3, 4]])\n",
    "\n",
    "matrix_B = np.array([[5, 6],\n",
    "                     [7, 8]])\n",
    "\n",
    "matrix_C = np.array([[7, 3],\n",
    "                     [2, 4]])\n",
    "\n",
    "scalar_a, scalar_b = 2, 3\n",
    "\n",
    "matrix_I = np.array([[1, 0],\n",
    "                     [0, 1]])\n",
    "\n",
    "matrix_O = np.array([[0, 0],\n",
    "                     [0, 0]])"
   ]
  },
  {
   "cell_type": "code",
   "execution_count": 55,
   "metadata": {},
   "outputs": [
    {
     "name": "stdout",
     "output_type": "stream",
     "text": [
      "[[ 7 10]\n",
      " [15 22]]\n",
      "[[ 7 10]\n",
      " [15 22]]\n",
      "[[ 1  4]\n",
      " [ 9 16]]\n"
     ]
    }
   ],
   "source": [
    "\n",
    "# 거듭제곱\n",
    "print(np.dot(matrix_A, matrix_A))\n",
    "# np.linalg.matrix_power 를 사용하면 거듭제곱을 사용할 수 있다\n",
    "print(np.linalg.matrix_power(matrix_A, 2))\n",
    "# 이렇게 하면 그냥 각각의 원소값만 제곱이되어 나온다\n",
    "print(matrix_A**2)"
   ]
  },
  {
   "cell_type": "code",
   "execution_count": 49,
   "metadata": {},
   "outputs": [
    {
     "name": "stdout",
     "output_type": "stream",
     "text": [
      "[[ True  True]\n",
      " [ True  True]]\n",
      "[[ True  True]\n",
      " [ True  True]]\n",
      "[[ True  True]\n",
      " [ True  True]]\n",
      "[[ True  True]\n",
      " [ True  True]]\n",
      "[[ True  True]\n",
      " [ True  True]]\n",
      "[[ True  True]\n",
      " [ True  True]]\n",
      "[[ True  True]\n",
      " [ True  True]]\n",
      "[[ True  True]\n",
      " [ True  True]]\n",
      "[[ True  True]\n",
      " [ True  True]]\n",
      "[[ True  True]\n",
      " [ True  True]]\n",
      "[[ True  True]\n",
      " [ True  True]]\n",
      "[[ True  True]\n",
      " [ True  True]]\n",
      "[[ True  True]\n",
      " [ True  True]]\n",
      "[[ True  True]\n",
      " [ True  True]]\n",
      "[[ True  True]\n",
      " [ True  True]]\n"
     ]
    }
   ],
   "source": [
    "# 1번\n",
    "print((matrix_A + matrix_O) == (matrix_O + matrix_A))\n",
    "print((matrix_A + matrix_O) == matrix_A)\n",
    "print((matrix_O + matrix_A) == matrix_A)\n",
    "\n",
    "# 2번\n",
    "print(np.dot(matrix_A, matrix_I) == np.dot(matrix_I, matrix_A))\n",
    "\n",
    "# 3번\n",
    "print((matrix_A + matrix_B) == (matrix_B + matrix_A))\n",
    "\n",
    "# 4번\n",
    "print((matrix_A + matrix_B) + matrix_C == matrix_A + (matrix_B + matrix_C))\n",
    "\n",
    "# 5번\n",
    "print(np.dot(np.dot(matrix_A, matrix_B), matrix_C) == np.dot(matrix_A, np.dot(matrix_B, matrix_C)))\n",
    "\n",
    "# 6번\n",
    "print(np.dot(matrix_A, (matrix_B + matrix_C)) == np.dot(matrix_A, matrix_B) + np.dot(matrix_A, matrix_C))\n",
    "\n",
    "# 7번\n",
    "print(np.dot((matrix_A + matrix_B), matrix_C) == np.dot(matrix_A, matrix_C) + np.dot(matrix_B, matrix_C))\n",
    "\n",
    "# 8번\n",
    "print(scalar_a*(matrix_B + matrix_C) == scalar_a*matrix_B + scalar_a*matrix_C)\n",
    "\n",
    "# 9번\n",
    "print((scalar_a + scalar_b)*matrix_C == scalar_a*matrix_C + scalar_b*matrix_C)\n",
    "\n",
    "# 10번\n",
    "print((scalar_a*scalar_b)*matrix_C == scalar_a*(scalar_b*matrix_C))\n",
    "\n",
    "# 11번\n",
    "print((scalar_a*(np.dot(matrix_B, matrix_C)) == np.dot(scalar_a*matrix_B, matrix_C)))\n",
    "print(np.dot(scalar_a*matrix_B, matrix_C) == np.dot(matrix_B, scalar_a*matrix_C))\n",
    "print((scalar_a*(np.dot(matrix_B, matrix_C)) == np.dot(matrix_B, scalar_a*matrix_C)))"
   ]
  },
  {
   "cell_type": "code",
   "execution_count": 52,
   "metadata": {},
   "outputs": [
    {
     "name": "stdout",
     "output_type": "stream",
     "text": [
      "[[ True  True]\n",
      " [ True  True]]\n",
      "[[ True  True]\n",
      " [ True False]]\n"
     ]
    }
   ],
   "source": [
    "matrix_A = np.array([[1, 0],\n",
    "                     [0, 0]])\n",
    "\n",
    "matrix_B = np.array([[1, 2],\n",
    "                     [0, 1]])\n",
    "\n",
    "matrix_C = np.array([[1, 2],\n",
    "                     [0, 0]])\n",
    "\n",
    "# AB == BA 이지만, A는 B와 같지 않다\n",
    "print(np.dot(matrix_A, matrix_B) == np.dot(matrix_A, matrix_C))\n",
    "print(matrix_B == matrix_C)"
   ]
  }
 ],
 "metadata": {
  "interpreter": {
   "hash": "63fd5069d213b44bf678585dea6b12cceca9941eaf7f819626cde1f2670de90d"
  },
  "kernelspec": {
   "display_name": "Python 3.9.5 64-bit",
   "language": "python",
   "name": "python3"
  },
  "language_info": {
   "codemirror_mode": {
    "name": "ipython",
    "version": 3
   },
   "file_extension": ".py",
   "mimetype": "text/x-python",
   "name": "python",
   "nbconvert_exporter": "python",
   "pygments_lexer": "ipython3",
   "version": "3.9.5"
  },
  "orig_nbformat": 4
 },
 "nbformat": 4,
 "nbformat_minor": 2
}
