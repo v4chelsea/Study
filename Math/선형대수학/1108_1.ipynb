{
 "cells": [
  {
   "cell_type": "markdown",
   "metadata": {},
   "source": [
    "행렬 : 수나, 식을 사각형 모양으로 배열하고, 괄호로 묶어둔 것  \n",
    "원소, 성분 : 행렬속 배열된 식 혹은 값  \n",
    "행(Row) : 가로줄 || 열(Column) : 세로줄  \n",
    "  \n",
    "행렬의 일반적인 형태는  m행 n열로 구성되어있으며, *m X n 행렬* 또는 *m행 n열의 행렬* 이라고 함\n",
    "\n",
    "정방행렬, 정사각행렬 : 행과 열의 개수가 동일한 행렬  \n",
    "주대각성분 : $a_{11}, a_{22}, ... , a_{nn}$  \n",
    "대각행렬 : 주대각 성분을 제외한 모든 부분이 0인 행렬  \n",
    "단위행렬, 항등행렬 : 주대각성분이 1이고 나머지는 0인 행렬 일반적으로 ***E, I***라고 표시"
   ]
  },
  {
   "cell_type": "code",
   "execution_count": 27,
   "metadata": {},
   "outputs": [],
   "source": [
    "import numpy as np"
   ]
  },
  {
   "cell_type": "code",
   "execution_count": 17,
   "metadata": {},
   "outputs": [
    {
     "name": "stdout",
     "output_type": "stream",
     "text": [
      "(2, 2) (2, 2)\n",
      "[[1 2]\n",
      " [3 4]]\n",
      "[[5 6]\n",
      " [7 8]]\n"
     ]
    }
   ],
   "source": [
    "# 2*2 행렬 생성\n",
    "matrix_A = np.array([[1, 2],\n",
    "                     [3, 4]])\n",
    "\n",
    "matrix_B = np.array([[5, 6],\n",
    "                     [7, 8]])\n",
    "\n",
    "print(matrix_A.shape, matrix_B.shape)\n",
    "print(matrix_A)\n",
    "print(matrix_B)"
   ]
  },
  {
   "cell_type": "code",
   "execution_count": 18,
   "metadata": {},
   "outputs": [
    {
     "name": "stdout",
     "output_type": "stream",
     "text": [
      "[[1 0 0]\n",
      " [0 2 0]\n",
      " [0 0 3]]\n",
      "1 2 3\n"
     ]
    }
   ],
   "source": [
    "# 3*3 대각 행렬 생성\n",
    "matrix_C = np.array([[1, 0, 0],\n",
    "                     [0, 2, 0],\n",
    "                     [0, 0, 3]])\n",
    "print(matrix_C)\n",
    "\n",
    "# 주대각 성분 = a11, a22, a33\n",
    "print(matrix_C[0][0], matrix_C[1][1], matrix_C[2][2])"
   ]
  },
  {
   "cell_type": "code",
   "execution_count": 22,
   "metadata": {},
   "outputs": [
    {
     "name": "stdout",
     "output_type": "stream",
     "text": [
      "[[1 0 0]\n",
      " [0 1 0]\n",
      " [0 0 1]]\n",
      "1 1 1\n"
     ]
    }
   ],
   "source": [
    "# 3*3 항등 행렬 생성\n",
    "matrix_E = np.array([[1, 0, 0],\n",
    "                     [0, 1, 0],\n",
    "                     [0, 0, 1]])\n",
    "print(matrix_E)\n",
    "# 주대각 성분 = a11, a22, a33\n",
    "print(matrix_E[0][0], matrix_E[1][1], matrix_E[2][2])"
   ]
  },
  {
   "cell_type": "code",
   "execution_count": 24,
   "metadata": {},
   "outputs": [
    {
     "name": "stdout",
     "output_type": "stream",
     "text": [
      "[[1 2]\n",
      " [3 4]\n",
      " [5 6]]\n",
      "[[1 3 5]\n",
      " [2 4 6]]\n"
     ]
    }
   ],
   "source": [
    "# 전치 행렬\n",
    "matrix_D = np.array([[1, 2],\n",
    "                     [3, 4],\n",
    "                     [5, 6]])\n",
    "\n",
    "# 2*3의 matrix_D를 전치를 통해 3*2 matrix_D_t로 변형\n",
    "matrix_D_t = matrix_D.T\n",
    "\n",
    "print(matrix_D)\n",
    "print(matrix_D_t)"
   ]
  },
  {
   "cell_type": "code",
   "execution_count": 26,
   "metadata": {},
   "outputs": [
    {
     "name": "stdout",
     "output_type": "stream",
     "text": [
      "[[1 2 3]\n",
      " [2 4 5]\n",
      " [3 5 2]]\n",
      "[[1 2 3]\n",
      " [2 4 5]\n",
      " [3 5 2]]\n"
     ]
    }
   ],
   "source": [
    "# 대칭 행렬 A = AT\n",
    "matrix_F = np.array([[1, 2, 3],\n",
    "                     [2, 4, 5],\n",
    "                     [3, 5, 2]])\n",
    "\n",
    "# 전치를 진행해도 전치 이전의 행렬과 모양과 값이 동일\n",
    "matrix_F_t = matrix_F.T\n",
    "\n",
    "print(matrix_F)\n",
    "print(matrix_F_t)"
   ]
  }
 ],
 "metadata": {
  "interpreter": {
   "hash": "eaea366635c942e0b6ef2a4427b3242479306b5cd6ce58d837e58132c46ca6a8"
  },
  "kernelspec": {
   "display_name": "Python 3.9.5 64-bit ('tensorflow': conda)",
   "name": "python3"
  },
  "language_info": {
   "codemirror_mode": {
    "name": "ipython",
    "version": 3
   },
   "file_extension": ".py",
   "mimetype": "text/x-python",
   "name": "python",
   "nbconvert_exporter": "python",
   "pygments_lexer": "ipython3",
   "version": "3.9.5"
  },
  "orig_nbformat": 4
 },
 "nbformat": 4,
 "nbformat_minor": 2
}
