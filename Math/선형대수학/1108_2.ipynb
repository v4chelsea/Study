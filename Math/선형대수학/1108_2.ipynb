{
 "cells": [
  {
   "cell_type": "markdown",
   "metadata": {},
   "source": [
    "행렬의 기본 연산 : 합(덧셈), 차(뺄셈), 스칼라배, 곱  \n",
    "합, 차 : 두 행렬의 크기가 동일할 떄만 적용 가능  \n",
    "곱 : A행렬의 열, B행렬의 행의 개수가 동일해야 가능  \n",
    " - m X n = A, n X p = B => AB = m X p"
   ]
  },
  {
   "cell_type": "code",
   "execution_count": 1,
   "metadata": {},
   "outputs": [],
   "source": [
    "import numpy as np"
   ]
  },
  {
   "cell_type": "code",
   "execution_count": 13,
   "metadata": {},
   "outputs": [
    {
     "name": "stdout",
     "output_type": "stream",
     "text": [
      "[[ 6  8]\n",
      " [10 12]]\n",
      "[[ 6  8]\n",
      " [10 12]]\n"
     ]
    }
   ],
   "source": [
    "matrix_A = np.array([[1, 2],\n",
    "                     [3, 4]])\n",
    "\n",
    "matrix_B = np.array([[5, 6],\n",
    "                     [7, 8]])\n",
    "\n",
    "matrix_C = np.array([[9, 10],\n",
    "                     [11, 12],\n",
    "                     [13, 14]])\n",
    "# A, B는 사이즈가 동일하기 때문에 연산이 정상적으로 진행\n",
    "print(matrix_A + matrix_B)\n",
    "print(matrix_B + matrix_A)\n"
   ]
  },
  {
   "cell_type": "code",
   "execution_count": 14,
   "metadata": {},
   "outputs": [
    {
     "ename": "ValueError",
     "evalue": "operands could not be broadcast together with shapes (3,2) (2,2) ",
     "output_type": "error",
     "traceback": [
      "\u001b[1;31m---------------------------------------------------------------------------\u001b[0m",
      "\u001b[1;31mValueError\u001b[0m                                Traceback (most recent call last)",
      "\u001b[1;32m<ipython-input-14-a10434264369>\u001b[0m in \u001b[0;36m<module>\u001b[1;34m\u001b[0m\n\u001b[0;32m      2\u001b[0m \u001b[1;31m# ValueError: operands could not be broadcast together with shapes (3,2) (2,2)\u001b[0m\u001b[1;33m\u001b[0m\u001b[1;33m\u001b[0m\u001b[1;33m\u001b[0m\u001b[0m\n\u001b[0;32m      3\u001b[0m \u001b[1;31m#  -> 행렬간의 사이즈가 일치하지않으니 broadcast도 안되더라 사이즈 맞춰라 라는 뜻\u001b[0m\u001b[1;33m\u001b[0m\u001b[1;33m\u001b[0m\u001b[1;33m\u001b[0m\u001b[0m\n\u001b[1;32m----> 4\u001b[1;33m \u001b[0mprint\u001b[0m\u001b[1;33m(\u001b[0m\u001b[0mmatrix_C\u001b[0m \u001b[1;33m+\u001b[0m \u001b[0mmatrix_A\u001b[0m\u001b[1;33m)\u001b[0m\u001b[1;33m\u001b[0m\u001b[1;33m\u001b[0m\u001b[0m\n\u001b[0m",
      "\u001b[1;31mValueError\u001b[0m: operands could not be broadcast together with shapes (3,2) (2,2) "
     ]
    }
   ],
   "source": [
    "# C는 사이즈가 다르기 때문에 연산이 진행되지 않음\n",
    "# ValueError: operands could not be broadcast together with shapes (3,2) (2,2)\n",
    "#  -> 행렬간의 사이즈가 일치하지않으니 broadcast도 안되더라 사이즈 맞춰라 라는 뜻\n",
    "print(matrix_C + matrix_A)"
   ]
  },
  {
   "cell_type": "markdown",
   "metadata": {},
   "source": [
    "# $$ c_{ij} = a_{i1}b_{1j} + ... + a_{in}b_{nj} = \\sum\\limits_{k=1}^{n} {a_{ik}b_{kj}}     (단, 1 <= i, j <= n) $$ "
   ]
  },
  {
   "cell_type": "code",
   "execution_count": 5,
   "metadata": {},
   "outputs": [
    {
     "name": "stdout",
     "output_type": "stream",
     "text": [
      "[[ 3  6]\n",
      " [ 9 12]]\n",
      "[[15 18]\n",
      " [21 24]]\n",
      "[[27 30]\n",
      " [33 36]\n",
      " [39 42]]\n"
     ]
    }
   ],
   "source": [
    "# 스칼라배의 연산 cA 각 성분에 스칼라 c를 곱하는 것\n",
    "print(3 * matrix_A)\n",
    "print(3 * matrix_B)\n",
    "print(3 * matrix_C)"
   ]
  },
  {
   "cell_type": "code",
   "execution_count": 10,
   "metadata": {},
   "outputs": [
    {
     "name": "stdout",
     "output_type": "stream",
     "text": [
      "[[ 5 12]\n",
      " [21 32]]\n"
     ]
    },
    {
     "data": {
      "text/plain": [
       "array([[ 49,  68,  87],\n",
       "       [ 59,  82, 105],\n",
       "       [ 69,  96, 123]])"
      ]
     },
     "execution_count": 10,
     "metadata": {},
     "output_type": "execute_result"
    }
   ],
   "source": [
    "matrix_D = np.array([[1, 2, 3],\n",
    "                     [4, 5, 6]])\n",
    "\n",
    "# 행렬 곱은 이렇게 그냥 곱하거나\n",
    "print(matrix_A*matrix_B)\n",
    "\n",
    "# np.dot을 활용해서 연산 진행 가능\n",
    "np.dot(matrix_C, matrix_D)"
   ]
  },
  {
   "cell_type": "markdown",
   "metadata": {},
   "source": [
    "벡터 : 행이나 열이 하나밖에 없는 행렬  \n",
    "행벡터 : 행으로만 이뤄진 행렬  \n",
    "열벡터 : 열로만 이뤄진 행렬  "
   ]
  },
  {
   "cell_type": "code",
   "execution_count": 12,
   "metadata": {},
   "outputs": [
    {
     "name": "stdout",
     "output_type": "stream",
     "text": [
      "[1 2 3]\n",
      "[[1]\n",
      " [2]\n",
      " [3]]\n"
     ]
    }
   ],
   "source": [
    "vector_A = np.array([1, 2, 3])\n",
    "vector_B = np.array([[1], \n",
    "                     [2], \n",
    "                     [3]])\n",
    "\n",
    "print(vector_A)\n",
    "print(vector_B)"
   ]
  }
 ],
 "metadata": {
  "interpreter": {
   "hash": "eaea366635c942e0b6ef2a4427b3242479306b5cd6ce58d837e58132c46ca6a8"
  },
  "kernelspec": {
   "display_name": "Python 3.9.5 64-bit ('tensorflow': conda)",
   "name": "python3"
  },
  "language_info": {
   "codemirror_mode": {
    "name": "ipython",
    "version": 3
   },
   "file_extension": ".py",
   "mimetype": "text/x-python",
   "name": "python",
   "nbconvert_exporter": "python",
   "pygments_lexer": "ipython3",
   "version": "3.9.5"
  },
  "orig_nbformat": 4
 },
 "nbformat": 4,
 "nbformat_minor": 2
}
